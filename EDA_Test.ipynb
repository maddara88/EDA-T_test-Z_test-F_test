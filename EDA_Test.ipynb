{
 "cells": [
  {
   "cell_type": "code",
   "execution_count": 1,
   "id": "41008b32",
   "metadata": {},
   "outputs": [],
   "source": [
    "# Python t-test,z-test,f-test"
   ]
  },
  {
   "cell_type": "code",
   "execution_count": 2,
   "id": "f0780d16",
   "metadata": {},
   "outputs": [],
   "source": [
    "import numpy as np\n",
    "import pandas as pd\n",
    "import matplotlib.pyplot as plt\n",
    "import seaborn as sns"
   ]
  },
  {
   "cell_type": "code",
   "execution_count": 3,
   "id": "497c5ebb",
   "metadata": {},
   "outputs": [],
   "source": [
    "df = pd.read_csv(\"C:\\\\Desktop\\\\employees.csv\")"
   ]
  },
  {
   "cell_type": "code",
   "execution_count": 4,
   "id": "05658d87",
   "metadata": {},
   "outputs": [
    {
     "data": {
      "text/html": [
       "<div>\n",
       "<style scoped>\n",
       "    .dataframe tbody tr th:only-of-type {\n",
       "        vertical-align: middle;\n",
       "    }\n",
       "\n",
       "    .dataframe tbody tr th {\n",
       "        vertical-align: top;\n",
       "    }\n",
       "\n",
       "    .dataframe thead th {\n",
       "        text-align: right;\n",
       "    }\n",
       "</style>\n",
       "<table border=\"1\" class=\"dataframe\">\n",
       "  <thead>\n",
       "    <tr style=\"text-align: right;\">\n",
       "      <th></th>\n",
       "      <th>satisfactoryLevel</th>\n",
       "      <th>lastEvaluation</th>\n",
       "      <th>numberOfProjects</th>\n",
       "      <th>avgMonthlyHours</th>\n",
       "      <th>timeSpent.company</th>\n",
       "      <th>workAccident</th>\n",
       "      <th>left</th>\n",
       "      <th>promotionInLast5years</th>\n",
       "      <th>dept</th>\n",
       "      <th>salary</th>\n",
       "    </tr>\n",
       "  </thead>\n",
       "  <tbody>\n",
       "    <tr>\n",
       "      <th>0</th>\n",
       "      <td>0.38</td>\n",
       "      <td>0.53</td>\n",
       "      <td>2</td>\n",
       "      <td>157</td>\n",
       "      <td>3</td>\n",
       "      <td>0</td>\n",
       "      <td>1</td>\n",
       "      <td>0</td>\n",
       "      <td>sales</td>\n",
       "      <td>low</td>\n",
       "    </tr>\n",
       "    <tr>\n",
       "      <th>1</th>\n",
       "      <td>0.80</td>\n",
       "      <td>0.86</td>\n",
       "      <td>5</td>\n",
       "      <td>262</td>\n",
       "      <td>6</td>\n",
       "      <td>0</td>\n",
       "      <td>1</td>\n",
       "      <td>0</td>\n",
       "      <td>sales</td>\n",
       "      <td>medium</td>\n",
       "    </tr>\n",
       "    <tr>\n",
       "      <th>2</th>\n",
       "      <td>0.11</td>\n",
       "      <td>0.88</td>\n",
       "      <td>7</td>\n",
       "      <td>272</td>\n",
       "      <td>4</td>\n",
       "      <td>0</td>\n",
       "      <td>1</td>\n",
       "      <td>0</td>\n",
       "      <td>sales</td>\n",
       "      <td>medium</td>\n",
       "    </tr>\n",
       "    <tr>\n",
       "      <th>3</th>\n",
       "      <td>0.37</td>\n",
       "      <td>0.52</td>\n",
       "      <td>2</td>\n",
       "      <td>159</td>\n",
       "      <td>3</td>\n",
       "      <td>0</td>\n",
       "      <td>1</td>\n",
       "      <td>0</td>\n",
       "      <td>sales</td>\n",
       "      <td>low</td>\n",
       "    </tr>\n",
       "    <tr>\n",
       "      <th>4</th>\n",
       "      <td>0.41</td>\n",
       "      <td>0.50</td>\n",
       "      <td>2</td>\n",
       "      <td>153</td>\n",
       "      <td>3</td>\n",
       "      <td>0</td>\n",
       "      <td>1</td>\n",
       "      <td>0</td>\n",
       "      <td>sales</td>\n",
       "      <td>low</td>\n",
       "    </tr>\n",
       "  </tbody>\n",
       "</table>\n",
       "</div>"
      ],
      "text/plain": [
       "   satisfactoryLevel  lastEvaluation  numberOfProjects  avgMonthlyHours  \\\n",
       "0               0.38            0.53                 2              157   \n",
       "1               0.80            0.86                 5              262   \n",
       "2               0.11            0.88                 7              272   \n",
       "3               0.37            0.52                 2              159   \n",
       "4               0.41            0.50                 2              153   \n",
       "\n",
       "   timeSpent.company  workAccident  left  promotionInLast5years   dept  salary  \n",
       "0                  3             0     1                      0  sales     low  \n",
       "1                  6             0     1                      0  sales  medium  \n",
       "2                  4             0     1                      0  sales  medium  \n",
       "3                  3             0     1                      0  sales     low  \n",
       "4                  3             0     1                      0  sales     low  "
      ]
     },
     "execution_count": 4,
     "metadata": {},
     "output_type": "execute_result"
    }
   ],
   "source": [
    "df.head()"
   ]
  },
  {
   "cell_type": "code",
   "execution_count": 5,
   "id": "858f01ba",
   "metadata": {},
   "outputs": [
    {
     "name": "stdout",
     "output_type": "stream",
     "text": [
      "<class 'pandas.core.frame.DataFrame'>\n",
      "RangeIndex: 14999 entries, 0 to 14998\n",
      "Data columns (total 10 columns):\n",
      " #   Column                 Non-Null Count  Dtype  \n",
      "---  ------                 --------------  -----  \n",
      " 0   satisfactoryLevel      14999 non-null  float64\n",
      " 1   lastEvaluation         14999 non-null  float64\n",
      " 2   numberOfProjects       14999 non-null  int64  \n",
      " 3   avgMonthlyHours        14999 non-null  int64  \n",
      " 4   timeSpent.company      14999 non-null  int64  \n",
      " 5   workAccident           14999 non-null  int64  \n",
      " 6   left                   14999 non-null  int64  \n",
      " 7   promotionInLast5years  14999 non-null  int64  \n",
      " 8   dept                   14999 non-null  object \n",
      " 9   salary                 14999 non-null  object \n",
      "dtypes: float64(2), int64(6), object(2)\n",
      "memory usage: 1.1+ MB\n"
     ]
    }
   ],
   "source": [
    "df.info()"
   ]
  },
  {
   "cell_type": "code",
   "execution_count": 6,
   "id": "94bde24a",
   "metadata": {},
   "outputs": [
    {
     "data": {
      "text/plain": [
       "satisfactoryLevel        0\n",
       "lastEvaluation           0\n",
       "numberOfProjects         0\n",
       "avgMonthlyHours          0\n",
       "timeSpent.company        0\n",
       "workAccident             0\n",
       "left                     0\n",
       "promotionInLast5years    0\n",
       "dept                     0\n",
       "salary                   0\n",
       "dtype: int64"
      ]
     },
     "execution_count": 6,
     "metadata": {},
     "output_type": "execute_result"
    }
   ],
   "source": [
    "# Checking for null values\n",
    "\n",
    "df.isnull().sum()"
   ]
  },
  {
   "cell_type": "code",
   "execution_count": 7,
   "id": "d53fe0de",
   "metadata": {},
   "outputs": [
    {
     "data": {
      "text/plain": [
       "3008"
      ]
     },
     "execution_count": 7,
     "metadata": {},
     "output_type": "execute_result"
    }
   ],
   "source": [
    "#Checking for duplicate values\n",
    "\n",
    "df.duplicated().sum()"
   ]
  },
  {
   "cell_type": "code",
   "execution_count": 8,
   "id": "67f94cde",
   "metadata": {},
   "outputs": [],
   "source": [
    "df = df.drop_duplicates(subset = None,keep = \"first\")"
   ]
  },
  {
   "cell_type": "code",
   "execution_count": 9,
   "id": "49260020",
   "metadata": {},
   "outputs": [
    {
     "data": {
      "text/plain": [
       "0"
      ]
     },
     "execution_count": 9,
     "metadata": {},
     "output_type": "execute_result"
    }
   ],
   "source": [
    "df.duplicated().sum()"
   ]
  },
  {
   "cell_type": "code",
   "execution_count": 10,
   "id": "e3eb9b3e",
   "metadata": {},
   "outputs": [
    {
     "data": {
      "text/html": [
       "<div>\n",
       "<style scoped>\n",
       "    .dataframe tbody tr th:only-of-type {\n",
       "        vertical-align: middle;\n",
       "    }\n",
       "\n",
       "    .dataframe tbody tr th {\n",
       "        vertical-align: top;\n",
       "    }\n",
       "\n",
       "    .dataframe thead th {\n",
       "        text-align: right;\n",
       "    }\n",
       "</style>\n",
       "<table border=\"1\" class=\"dataframe\">\n",
       "  <thead>\n",
       "    <tr style=\"text-align: right;\">\n",
       "      <th></th>\n",
       "      <th>satisfactoryLevel</th>\n",
       "      <th>lastEvaluation</th>\n",
       "      <th>numberOfProjects</th>\n",
       "      <th>avgMonthlyHours</th>\n",
       "      <th>timeSpent.company</th>\n",
       "      <th>workAccident</th>\n",
       "      <th>left</th>\n",
       "      <th>promotionInLast5years</th>\n",
       "    </tr>\n",
       "  </thead>\n",
       "  <tbody>\n",
       "    <tr>\n",
       "      <th>count</th>\n",
       "      <td>11991.000000</td>\n",
       "      <td>11991.000000</td>\n",
       "      <td>11991.000000</td>\n",
       "      <td>11991.000000</td>\n",
       "      <td>11991.000000</td>\n",
       "      <td>11991.000000</td>\n",
       "      <td>11991.000000</td>\n",
       "      <td>11991.000000</td>\n",
       "    </tr>\n",
       "    <tr>\n",
       "      <th>mean</th>\n",
       "      <td>0.629658</td>\n",
       "      <td>0.716683</td>\n",
       "      <td>3.802852</td>\n",
       "      <td>200.473522</td>\n",
       "      <td>3.364857</td>\n",
       "      <td>0.154282</td>\n",
       "      <td>0.166041</td>\n",
       "      <td>0.016929</td>\n",
       "    </tr>\n",
       "    <tr>\n",
       "      <th>std</th>\n",
       "      <td>0.241070</td>\n",
       "      <td>0.168343</td>\n",
       "      <td>1.163238</td>\n",
       "      <td>48.727813</td>\n",
       "      <td>1.330240</td>\n",
       "      <td>0.361234</td>\n",
       "      <td>0.372133</td>\n",
       "      <td>0.129012</td>\n",
       "    </tr>\n",
       "    <tr>\n",
       "      <th>min</th>\n",
       "      <td>0.090000</td>\n",
       "      <td>0.360000</td>\n",
       "      <td>2.000000</td>\n",
       "      <td>96.000000</td>\n",
       "      <td>2.000000</td>\n",
       "      <td>0.000000</td>\n",
       "      <td>0.000000</td>\n",
       "      <td>0.000000</td>\n",
       "    </tr>\n",
       "    <tr>\n",
       "      <th>25%</th>\n",
       "      <td>0.480000</td>\n",
       "      <td>0.570000</td>\n",
       "      <td>3.000000</td>\n",
       "      <td>157.000000</td>\n",
       "      <td>3.000000</td>\n",
       "      <td>0.000000</td>\n",
       "      <td>0.000000</td>\n",
       "      <td>0.000000</td>\n",
       "    </tr>\n",
       "    <tr>\n",
       "      <th>50%</th>\n",
       "      <td>0.660000</td>\n",
       "      <td>0.720000</td>\n",
       "      <td>4.000000</td>\n",
       "      <td>200.000000</td>\n",
       "      <td>3.000000</td>\n",
       "      <td>0.000000</td>\n",
       "      <td>0.000000</td>\n",
       "      <td>0.000000</td>\n",
       "    </tr>\n",
       "    <tr>\n",
       "      <th>75%</th>\n",
       "      <td>0.820000</td>\n",
       "      <td>0.860000</td>\n",
       "      <td>5.000000</td>\n",
       "      <td>243.000000</td>\n",
       "      <td>4.000000</td>\n",
       "      <td>0.000000</td>\n",
       "      <td>0.000000</td>\n",
       "      <td>0.000000</td>\n",
       "    </tr>\n",
       "    <tr>\n",
       "      <th>max</th>\n",
       "      <td>1.000000</td>\n",
       "      <td>1.000000</td>\n",
       "      <td>7.000000</td>\n",
       "      <td>310.000000</td>\n",
       "      <td>10.000000</td>\n",
       "      <td>1.000000</td>\n",
       "      <td>1.000000</td>\n",
       "      <td>1.000000</td>\n",
       "    </tr>\n",
       "  </tbody>\n",
       "</table>\n",
       "</div>"
      ],
      "text/plain": [
       "       satisfactoryLevel  lastEvaluation  numberOfProjects  avgMonthlyHours  \\\n",
       "count       11991.000000    11991.000000      11991.000000     11991.000000   \n",
       "mean            0.629658        0.716683          3.802852       200.473522   \n",
       "std             0.241070        0.168343          1.163238        48.727813   \n",
       "min             0.090000        0.360000          2.000000        96.000000   \n",
       "25%             0.480000        0.570000          3.000000       157.000000   \n",
       "50%             0.660000        0.720000          4.000000       200.000000   \n",
       "75%             0.820000        0.860000          5.000000       243.000000   \n",
       "max             1.000000        1.000000          7.000000       310.000000   \n",
       "\n",
       "       timeSpent.company  workAccident          left  promotionInLast5years  \n",
       "count       11991.000000  11991.000000  11991.000000           11991.000000  \n",
       "mean            3.364857      0.154282      0.166041               0.016929  \n",
       "std             1.330240      0.361234      0.372133               0.129012  \n",
       "min             2.000000      0.000000      0.000000               0.000000  \n",
       "25%             3.000000      0.000000      0.000000               0.000000  \n",
       "50%             3.000000      0.000000      0.000000               0.000000  \n",
       "75%             4.000000      0.000000      0.000000               0.000000  \n",
       "max            10.000000      1.000000      1.000000               1.000000  "
      ]
     },
     "execution_count": 10,
     "metadata": {},
     "output_type": "execute_result"
    }
   ],
   "source": [
    "df.describe()"
   ]
  },
  {
   "cell_type": "code",
   "execution_count": 11,
   "id": "6b7d156d",
   "metadata": {},
   "outputs": [],
   "source": [
    "# Visualize"
   ]
  },
  {
   "cell_type": "code",
   "execution_count": 12,
   "id": "5c703ce6",
   "metadata": {},
   "outputs": [],
   "source": [
    "import warnings\n",
    "warnings.filterwarnings(\"ignore\")"
   ]
  },
  {
   "cell_type": "code",
   "execution_count": 13,
   "id": "92812599",
   "metadata": {},
   "outputs": [],
   "source": [
    "col = list(df.columns)"
   ]
  },
  {
   "cell_type": "code",
   "execution_count": 14,
   "id": "7a0a975c",
   "metadata": {},
   "outputs": [],
   "source": [
    "# Getting a glance on our structure of data"
   ]
  },
  {
   "cell_type": "code",
   "execution_count": 15,
   "id": "8a99f5a2",
   "metadata": {},
   "outputs": [
    {
     "data": {
      "image/png": "[encoded data removed]",
      "text/plain": [
       "<Figure size 432x288 with 1 Axes>"
      ]
     },
     "metadata": {
      "needs_background": "light"
     },
     "output_type": "display_data"
    },
    {
     "data": {
      "image/png": "[encoded data removed]",
      "text/plain": [
       "<Figure size 432x288 with 1 Axes>"
      ]
     },
     "metadata": {
      "needs_background": "light"
     },
     "output_type": "display_data"
    },
    {
     "data": {
      "image/png": "[encoded data removed]",
      "text/plain": [
       "<Figure size 432x288 with 1 Axes>"
      ]
     },
     "metadata": {
      "needs_background": "light"
     },
     "output_type": "display_data"
    },
    {
     "data": {
      "image/png": "[encoded data removed]",
      "text/plain": [
       "<Figure size 432x288 with 1 Axes>"
      ]
     },
     "metadata": {
      "needs_background": "light"
     },
     "output_type": "display_data"
    },
    {
     "data": {
      "image/png": "[encoded data removed]",
      "text/plain": [
       "<Figure size 432x288 with 1 Axes>"
      ]
     },
     "metadata": {
      "needs_background": "light"
     },
     "output_type": "display_data"
    },
    {
     "data": {
      "image/png": "[encoded data removed]",
      "text/plain": [
       "<Figure size 432x288 with 1 Axes>"
      ]
     },
     "metadata": {
      "needs_background": "light"
     },
     "output_type": "display_data"
    },
    {
     "data": {
      "image/png": "[encoded data removed]",
      "text/plain": [
       "<Figure size 432x288 with 1 Axes>"
      ]
     },
     "metadata": {
      "needs_background": "light"
     },
     "output_type": "display_data"
    },
    {
     "data": {
      "image/png": "[encoded data removed]",
      "text/plain": [
       "<Figure size 432x288 with 1 Axes>"
      ]
     },
     "metadata": {
      "needs_background": "light"
     },
     "output_type": "display_data"
    }
   ],
   "source": [
    "for i in col:\n",
    "    if df[i].dtype!= \"object\":\n",
    "        sns.distplot(df[i])\n",
    "        plt.show()"
   ]
  },
  {
   "cell_type": "code",
   "execution_count": 16,
   "id": "03e44c13",
   "metadata": {},
   "outputs": [],
   "source": [
    "# Heatmap"
   ]
  },
  {
   "cell_type": "code",
   "execution_count": 17,
   "id": "989fafca",
   "metadata": {},
   "outputs": [
    {
     "data": {
      "image/png": "[encoded data removed]",
      "text/plain": [
       "<Figure size 504x504 with 2 Axes>"
      ]
     },
     "metadata": {
      "needs_background": "light"
     },
     "output_type": "display_data"
    }
   ],
   "source": [
    "plt.figure(figsize = (7,7))\n",
    "sns.heatmap(df.corr(),annot= True,cmap = \"Oranges\")\n",
    "plt.show()"
   ]
  },
  {
   "cell_type": "code",
   "execution_count": 18,
   "id": "2d763aca",
   "metadata": {},
   "outputs": [],
   "source": [
    "#From the above correlation graph we can clearly see that satisfation level and the amount of people leaving the \n",
    "#company is having a -ve correlation that mean when the satisfaction level increases the amount of people leaving the\n",
    "#organisation decreases and vise versa so we can tell that the feature satisfation plays a very important part \n",
    "\n",
    "# then we can see a positive reationship between the avg monthly hours and number of projects which indicates that \n",
    "# when the number of projects are increasing the employee might have to work for more hours \n",
    "\n",
    "# we can also see a -ve relatioinship between the time spent in the company and the satisfation level, means that when \n",
    "# an employee is spenting most of thier time working in office are not satisfied \n"
   ]
  },
  {
   "cell_type": "code",
   "execution_count": 19,
   "id": "65d3dc9e",
   "metadata": {},
   "outputs": [],
   "source": [
    "# lets try to analyse a little deeper\n",
    "\n"
   ]
  },
  {
   "cell_type": "code",
   "execution_count": 20,
   "id": "50fee03a",
   "metadata": {},
   "outputs": [],
   "source": [
    "col.remove(\"avgMonthlyHours\")"
   ]
  },
  {
   "cell_type": "code",
   "execution_count": 21,
   "id": "d9ca48d8",
   "metadata": {},
   "outputs": [],
   "source": [
    "col.remove(\"left\")"
   ]
  },
  {
   "cell_type": "code",
   "execution_count": 22,
   "id": "07ed7a84",
   "metadata": {},
   "outputs": [],
   "source": [
    "col.remove(\"lastEvaluation\")"
   ]
  },
  {
   "cell_type": "code",
   "execution_count": 23,
   "id": "9304129f",
   "metadata": {},
   "outputs": [],
   "source": [
    "col.remove(\"satisfactoryLevel\")"
   ]
  },
  {
   "cell_type": "code",
   "execution_count": 24,
   "id": "8c06b006",
   "metadata": {},
   "outputs": [
    {
     "data": {
      "image/png": "[encoded data removed]",
      "text/plain": [
       "<Figure size 1440x720 with 6 Axes>"
      ]
     },
     "metadata": {
      "needs_background": "light"
     },
     "output_type": "display_data"
    }
   ],
   "source": [
    "plt.figure(figsize = (20,10))\n",
    "for p,q in enumerate(col,start = 1):\n",
    "    plt.subplot(2,3,p)\n",
    "    sns.countplot(x = q,data = df,hue = \"left\")\n",
    "    plt.title(q)\n",
    "    plt.xticks(rotation = 90)\n",
    "    "
   ]
  },
  {
   "cell_type": "code",
   "execution_count": 25,
   "id": "78f712aa",
   "metadata": {},
   "outputs": [],
   "source": [
    "# From the above graphs we can say that Employees are leaving the oranization when there is lack in project work as \n",
    "# they might not be gaining any new skills without sufficiant projects and employees are also leaving the organization \n",
    "# when the number of projects given more than the limit as it might be hectic for the employees\n",
    "\n",
    "# we can also say that people with experiance of 3-5 years are trying to leave the organisation, maybe its because they are \n",
    "# not paid much or they have the relevent skills and experiance and are trying to switch to a diffrent orgaisation\n",
    "\n",
    "# people are also leaving when they are not given the promotoin at the right time\n",
    "\n",
    "# sales, technical and IT are the departments where employees are tryining to leave\n",
    "\n",
    "# employees are also leaving the organization if they are provided with a lower salary"
   ]
  },
  {
   "cell_type": "code",
   "execution_count": 26,
   "id": "c457e412",
   "metadata": {},
   "outputs": [
    {
     "data": {
      "text/plain": [
       "<AxesSubplot:xlabel='satisfactoryLevel', ylabel='lastEvaluation'>"
      ]
     },
     "execution_count": 26,
     "metadata": {},
     "output_type": "execute_result"
    },
    {
     "data": {
      "image/png": "[encoded data removed]",
      "text/plain": [
       "<Figure size 432x288 with 1 Axes>"
      ]
     },
     "metadata": {
      "needs_background": "light"
     },
     "output_type": "display_data"
    }
   ],
   "source": [
    "sns.lineplot(x = \"satisfactoryLevel\",y =\"lastEvaluation\",data = df,hue = \"left\" )"
   ]
  },
  {
   "cell_type": "code",
   "execution_count": 27,
   "id": "5a01d757",
   "metadata": {},
   "outputs": [
    {
     "data": {
      "text/plain": [
       "<AxesSubplot:xlabel='satisfactoryLevel', ylabel='avgMonthlyHours'>"
      ]
     },
     "execution_count": 27,
     "metadata": {},
     "output_type": "execute_result"
    },
    {
     "data": {
      "image/png": "[encoded data removed]",
      "text/plain": [
       "<Figure size 432x288 with 1 Axes>"
      ]
     },
     "metadata": {
      "needs_background": "light"
     },
     "output_type": "display_data"
    }
   ],
   "source": [
    "sns.lineplot(x = \"satisfactoryLevel\",y =\"avgMonthlyHours\",data = df,hue = \"left\" )"
   ]
  },
  {
   "cell_type": "code",
   "execution_count": 28,
   "id": "bb8e012c",
   "metadata": {},
   "outputs": [],
   "source": [
    "# from the above 2 graphs we can see that the people with a fluctuating working hours and satisfaction level are \n",
    "# leaving the organisation and the people who are having a constant working hours are staying "
   ]
  },
  {
   "cell_type": "code",
   "execution_count": 29,
   "id": "04f63a25",
   "metadata": {},
   "outputs": [],
   "source": [
    "# lets work on some hypothesis part"
   ]
  },
  {
   "cell_type": "code",
   "execution_count": 30,
   "id": "664289e6",
   "metadata": {},
   "outputs": [
    {
     "data": {
      "text/plain": [
       "<AxesSubplot:xlabel='satisfactoryLevel', ylabel='Density'>"
      ]
     },
     "execution_count": 30,
     "metadata": {},
     "output_type": "execute_result"
    },
    {
     "data": {
      "image/png": "[encoded data removed]",
      "text/plain": [
       "<Figure size 432x288 with 1 Axes>"
      ]
     },
     "metadata": {
      "needs_background": "light"
     },
     "output_type": "display_data"
    }
   ],
   "source": [
    "sns.distplot(df[\"satisfactoryLevel\"])"
   ]
  },
  {
   "cell_type": "code",
   "execution_count": 31,
   "id": "60454dfc",
   "metadata": {},
   "outputs": [],
   "source": [
    "#in the above figure we cant say that our dataset is symmetrical so lets try to prove it with hypothesis testing"
   ]
  },
  {
   "cell_type": "code",
   "execution_count": 32,
   "id": "cdd0650c",
   "metadata": {},
   "outputs": [],
   "source": [
    "# now we will be checking with the shapiro wilk test"
   ]
  },
  {
   "cell_type": "code",
   "execution_count": 33,
   "id": "7817ed26",
   "metadata": {},
   "outputs": [],
   "source": [
    "# Hypothesis\n",
    "\n",
    "# H0 - Data is Normally distributed\n",
    "# H1 - Data is not Normally distrbuted\n",
    "\n",
    "# here if p<0.05 then we will reject the null hypothess"
   ]
  },
  {
   "cell_type": "code",
   "execution_count": 34,
   "id": "d7dcdf0b",
   "metadata": {},
   "outputs": [],
   "source": [
    "# The Shapiro-Wilk test is a statistical test used to determine whether a set of data is normally distributed.\n",
    "# It is a parametric test, which means that it makes assumptions about the distribution of the data.\n",
    "# The null hypothesis of the Shapiro-Wilk test is that the data are normally distributed,\n",
    "# while the alternative hypothesis is that the data are not normally distributed.\n",
    "\n",
    "# The Shapiro-Wilk test is commonly used in hypothesis testing, as a preliminary step to check\n",
    "# the normality assumption of many parametric tests, such as t-tests and ANOVA. The test works\n",
    "# by calculating a test statistic W, which measures how well the data fit a normal distribution.\n",
    "# If the value of W is close to 1, then the data are normally distributed. If the value of W is\n",
    "# significantly different from 1, then the null hypothesis is rejected, and the data are assumed\n",
    "# to not be normally distributed.\n",
    "\n",
    "# The Shapiro-Wilk test is sensitive to sample size, and it is recommended to use it for sample\n",
    "# sizes of less than 50. For larger sample sizes, other tests, such as the Kolmogorov-Smirnov test,\n",
    "# may be more appropriate. It is also important to note that even if the Shapiro-Wilk test rejects\n",
    "# the null hypothesis, it does not necessarily mean that the data are not suitable for parametric tests.\n",
    "# In such cases, it is recommended to use non-parametric tests or to transform the data to achieve normality."
   ]
  },
  {
   "cell_type": "code",
   "execution_count": 35,
   "id": "f0617697",
   "metadata": {},
   "outputs": [],
   "source": [
    "from scipy.stats import shapiro"
   ]
  },
  {
   "cell_type": "code",
   "execution_count": 36,
   "id": "fcb6dfa9",
   "metadata": {},
   "outputs": [],
   "source": [
    "stat,p_value = shapiro(df[\"satisfactoryLevel\"])"
   ]
  },
  {
   "cell_type": "code",
   "execution_count": 37,
   "id": "856c0c3b",
   "metadata": {},
   "outputs": [
    {
     "name": "stdout",
     "output_type": "stream",
     "text": [
      "0.0\n"
     ]
    }
   ],
   "source": [
    "print(p_value)"
   ]
  },
  {
   "cell_type": "code",
   "execution_count": 38,
   "id": "ba70961e",
   "metadata": {},
   "outputs": [],
   "source": [
    "# scince the p_value is less that 0.05 we will be rejecting the null hypothesis \n",
    "#so here since the satisfactory level is not normally distributed \n",
    "# we can consider this data to be the reason for the more number of atrition rate"
   ]
  },
  {
   "cell_type": "code",
   "execution_count": 39,
   "id": "b056eeae",
   "metadata": {},
   "outputs": [],
   "source": [
    "# T-test"
   ]
  },
  {
   "cell_type": "code",
   "execution_count": 40,
   "id": "5369feb6",
   "metadata": {},
   "outputs": [],
   "source": [
    "# T-Test = A t test is a statistical test that is used to compare the means of two groups.\n",
    "# It is often used in hypothesis testing to determine whether a process or treatment actually\n",
    "# has an effect on the population of interest,\n",
    "# or whether two groups are different from one another."
   ]
  },
  {
   "cell_type": "code",
   "execution_count": 41,
   "id": "87966337",
   "metadata": {},
   "outputs": [],
   "source": [
    "# we are performing here the one sample T- Test as it will let us know about the mean of the sample and the population are\n",
    "# diffrent or not."
   ]
  },
  {
   "cell_type": "code",
   "execution_count": null,
   "id": "8a555aaf",
   "metadata": {},
   "outputs": [],
   "source": [
    "# now we need to check the below \n",
    "# h0 = sample mean = population mean\n",
    "# h1 = sample mean != population mean"
   ]
  },
  {
   "cell_type": "code",
   "execution_count": 55,
   "id": "b7a9e037",
   "metadata": {},
   "outputs": [],
   "source": [
    "df = df.rename(columns = {\"timeSpent.company\":\"timeSpent_company\"})"
   ]
  },
  {
   "cell_type": "code",
   "execution_count": 57,
   "id": "442795bf",
   "metadata": {},
   "outputs": [
    {
     "data": {
      "text/html": [
       "<div>\n",
       "<style scoped>\n",
       "    .dataframe tbody tr th:only-of-type {\n",
       "        vertical-align: middle;\n",
       "    }\n",
       "\n",
       "    .dataframe tbody tr th {\n",
       "        vertical-align: top;\n",
       "    }\n",
       "\n",
       "    .dataframe thead th {\n",
       "        text-align: right;\n",
       "    }\n",
       "</style>\n",
       "<table border=\"1\" class=\"dataframe\">\n",
       "  <thead>\n",
       "    <tr style=\"text-align: right;\">\n",
       "      <th></th>\n",
       "      <th>satisfactoryLevel</th>\n",
       "      <th>lastEvaluation</th>\n",
       "      <th>numberOfProjects</th>\n",
       "      <th>avgMonthlyHours</th>\n",
       "      <th>timeSpent_company</th>\n",
       "      <th>workAccident</th>\n",
       "      <th>left</th>\n",
       "      <th>promotionInLast5years</th>\n",
       "    </tr>\n",
       "  </thead>\n",
       "  <tbody>\n",
       "    <tr>\n",
       "      <th>count</th>\n",
       "      <td>11991.000000</td>\n",
       "      <td>11991.000000</td>\n",
       "      <td>11991.000000</td>\n",
       "      <td>11991.000000</td>\n",
       "      <td>11991.000000</td>\n",
       "      <td>11991.000000</td>\n",
       "      <td>11991.000000</td>\n",
       "      <td>11991.000000</td>\n",
       "    </tr>\n",
       "    <tr>\n",
       "      <th>mean</th>\n",
       "      <td>0.629658</td>\n",
       "      <td>0.716683</td>\n",
       "      <td>3.802852</td>\n",
       "      <td>200.473522</td>\n",
       "      <td>3.364857</td>\n",
       "      <td>0.154282</td>\n",
       "      <td>0.166041</td>\n",
       "      <td>0.016929</td>\n",
       "    </tr>\n",
       "    <tr>\n",
       "      <th>std</th>\n",
       "      <td>0.241070</td>\n",
       "      <td>0.168343</td>\n",
       "      <td>1.163238</td>\n",
       "      <td>48.727813</td>\n",
       "      <td>1.330240</td>\n",
       "      <td>0.361234</td>\n",
       "      <td>0.372133</td>\n",
       "      <td>0.129012</td>\n",
       "    </tr>\n",
       "    <tr>\n",
       "      <th>min</th>\n",
       "      <td>0.090000</td>\n",
       "      <td>0.360000</td>\n",
       "      <td>2.000000</td>\n",
       "      <td>96.000000</td>\n",
       "      <td>2.000000</td>\n",
       "      <td>0.000000</td>\n",
       "      <td>0.000000</td>\n",
       "      <td>0.000000</td>\n",
       "    </tr>\n",
       "    <tr>\n",
       "      <th>25%</th>\n",
       "      <td>0.480000</td>\n",
       "      <td>0.570000</td>\n",
       "      <td>3.000000</td>\n",
       "      <td>157.000000</td>\n",
       "      <td>3.000000</td>\n",
       "      <td>0.000000</td>\n",
       "      <td>0.000000</td>\n",
       "      <td>0.000000</td>\n",
       "    </tr>\n",
       "    <tr>\n",
       "      <th>50%</th>\n",
       "      <td>0.660000</td>\n",
       "      <td>0.720000</td>\n",
       "      <td>4.000000</td>\n",
       "      <td>200.000000</td>\n",
       "      <td>3.000000</td>\n",
       "      <td>0.000000</td>\n",
       "      <td>0.000000</td>\n",
       "      <td>0.000000</td>\n",
       "    </tr>\n",
       "    <tr>\n",
       "      <th>75%</th>\n",
       "      <td>0.820000</td>\n",
       "      <td>0.860000</td>\n",
       "      <td>5.000000</td>\n",
       "      <td>243.000000</td>\n",
       "      <td>4.000000</td>\n",
       "      <td>0.000000</td>\n",
       "      <td>0.000000</td>\n",
       "      <td>0.000000</td>\n",
       "    </tr>\n",
       "    <tr>\n",
       "      <th>max</th>\n",
       "      <td>1.000000</td>\n",
       "      <td>1.000000</td>\n",
       "      <td>7.000000</td>\n",
       "      <td>310.000000</td>\n",
       "      <td>10.000000</td>\n",
       "      <td>1.000000</td>\n",
       "      <td>1.000000</td>\n",
       "      <td>1.000000</td>\n",
       "    </tr>\n",
       "  </tbody>\n",
       "</table>\n",
       "</div>"
      ],
      "text/plain": [
       "       satisfactoryLevel  lastEvaluation  numberOfProjects  avgMonthlyHours  \\\n",
       "count       11991.000000    11991.000000      11991.000000     11991.000000   \n",
       "mean            0.629658        0.716683          3.802852       200.473522   \n",
       "std             0.241070        0.168343          1.163238        48.727813   \n",
       "min             0.090000        0.360000          2.000000        96.000000   \n",
       "25%             0.480000        0.570000          3.000000       157.000000   \n",
       "50%             0.660000        0.720000          4.000000       200.000000   \n",
       "75%             0.820000        0.860000          5.000000       243.000000   \n",
       "max             1.000000        1.000000          7.000000       310.000000   \n",
       "\n",
       "       timeSpent_company  workAccident          left  promotionInLast5years  \n",
       "count       11991.000000  11991.000000  11991.000000           11991.000000  \n",
       "mean            3.364857      0.154282      0.166041               0.016929  \n",
       "std             1.330240      0.361234      0.372133               0.129012  \n",
       "min             2.000000      0.000000      0.000000               0.000000  \n",
       "25%             3.000000      0.000000      0.000000               0.000000  \n",
       "50%             3.000000      0.000000      0.000000               0.000000  \n",
       "75%             4.000000      0.000000      0.000000               0.000000  \n",
       "max            10.000000      1.000000      1.000000               1.000000  "
      ]
     },
     "execution_count": 57,
     "metadata": {},
     "output_type": "execute_result"
    }
   ],
   "source": [
    "df.describe()"
   ]
  },
  {
   "cell_type": "code",
   "execution_count": 64,
   "id": "c01a9c29",
   "metadata": {},
   "outputs": [],
   "source": [
    "emp = df[(df.avgMonthlyHours>225)]"
   ]
  },
  {
   "cell_type": "code",
   "execution_count": 65,
   "id": "5463ae65",
   "metadata": {},
   "outputs": [
    {
     "data": {
      "text/plain": [
       "0    3261\n",
       "1     998\n",
       "Name: left, dtype: int64"
      ]
     },
     "execution_count": 65,
     "metadata": {},
     "output_type": "execute_result"
    }
   ],
   "source": [
    "emp[\"left\"].value_counts()"
   ]
  },
  {
   "cell_type": "code",
   "execution_count": 67,
   "id": "e9fe293d",
   "metadata": {},
   "outputs": [],
   "source": [
    "#so here we can see that people who are working for more than 225 avg monthly hours are more likely to leave the job"
   ]
  },
  {
   "cell_type": "code",
   "execution_count": 68,
   "id": "59e4a791",
   "metadata": {},
   "outputs": [],
   "source": [
    "# lets first confirm if our population mean is diffrent from our sample mean using one sampel t test for satisfactoryLevel "
   ]
  },
  {
   "cell_type": "code",
   "execution_count": 69,
   "id": "06f3aeb6",
   "metadata": {},
   "outputs": [
    {
     "data": {
      "text/plain": [
       "satisfactoryLevel          0.618835\n",
       "lastEvaluation             0.762848\n",
       "numberOfProjects           4.210613\n",
       "avgMonthlyHours          254.963137\n",
       "timeSpent_company          3.569852\n",
       "workAccident               0.144165\n",
       "left                       0.234327\n",
       "promotionInLast5years      0.016671\n",
       "dtype: float64"
      ]
     },
     "execution_count": 69,
     "metadata": {},
     "output_type": "execute_result"
    }
   ],
   "source": [
    "emp.mean()"
   ]
  },
  {
   "cell_type": "code",
   "execution_count": 70,
   "id": "37f7e635",
   "metadata": {},
   "outputs": [],
   "source": [
    "# now we are going to take out sample from emp"
   ]
  },
  {
   "cell_type": "code",
   "execution_count": 71,
   "id": "d209934e",
   "metadata": {},
   "outputs": [],
   "source": [
    "sample_size = 100"
   ]
  },
  {
   "cell_type": "code",
   "execution_count": 73,
   "id": "16b39661",
   "metadata": {},
   "outputs": [],
   "source": [
    "sample = emp.sample(sample_size,random_state = 42)"
   ]
  },
  {
   "cell_type": "code",
   "execution_count": 86,
   "id": "e672f29e",
   "metadata": {},
   "outputs": [
    {
     "data": {
      "text/plain": [
       "257.14"
      ]
     },
     "execution_count": 86,
     "metadata": {},
     "output_type": "execute_result"
    }
   ],
   "source": [
    "sample[\"avgMonthlyHours\"].mean()"
   ]
  },
  {
   "cell_type": "code",
   "execution_count": 85,
   "id": "2a861a22",
   "metadata": {},
   "outputs": [
    {
     "data": {
      "text/plain": [
       "254.9631368865931"
      ]
     },
     "execution_count": 85,
     "metadata": {},
     "output_type": "execute_result"
    }
   ],
   "source": [
    "emp[\"avgMonthlyHours\"].mean()"
   ]
  },
  {
   "cell_type": "code",
   "execution_count": 76,
   "id": "d882d688",
   "metadata": {},
   "outputs": [],
   "source": [
    "# now we got the Sample mean of  avgMonthlyHours as 257 and population mean 255"
   ]
  },
  {
   "cell_type": "code",
   "execution_count": 77,
   "id": "8c4c7eca",
   "metadata": {},
   "outputs": [],
   "source": [
    "# now we are going to perform one sample t-test"
   ]
  },
  {
   "cell_type": "code",
   "execution_count": 79,
   "id": "b96905f5",
   "metadata": {},
   "outputs": [],
   "source": [
    "from scipy.stats import ttest_1samp"
   ]
  },
  {
   "cell_type": "code",
   "execution_count": 87,
   "id": "96bffae0",
   "metadata": {},
   "outputs": [
    {
     "name": "stdout",
     "output_type": "stream",
     "text": [
      "1.2804844413959333 0.20336676408053317\n"
     ]
    }
   ],
   "source": [
    "statistic,p_value = ttest_1samp(sample[\"avgMonthlyHours\"],emp[\"avgMonthlyHours\"].mean())\n",
    "print(statistic,p_value)"
   ]
  },
  {
   "cell_type": "code",
   "execution_count": 88,
   "id": "992332e3",
   "metadata": {},
   "outputs": [
    {
     "data": {
      "text/plain": [
       "4258"
      ]
     },
     "execution_count": 88,
     "metadata": {},
     "output_type": "execute_result"
    }
   ],
   "source": [
    "n = len(emp[\"avgMonthlyHours\"])\n",
    "degrees_of_freedom = n-1\n",
    "degrees_of_freedom"
   ]
  },
  {
   "cell_type": "code",
   "execution_count": 89,
   "id": "c88600f7",
   "metadata": {},
   "outputs": [],
   "source": [
    "alpha = 0.05"
   ]
  },
  {
   "cell_type": "code",
   "execution_count": 90,
   "id": "4f4cd1fb",
   "metadata": {},
   "outputs": [],
   "source": [
    "# now we are going to calculate the critical value \n",
    "# i agree that we dont need to calculate the critical value \n",
    "# as we have alredy found out p_value and it is more than\n",
    "# enough to check reject or accept our hypothesis\n",
    "# but we have to do this because it will be usefull\n",
    "# to check for a lot of information such as which tail\n",
    "# positive or negative etc"
   ]
  },
  {
   "cell_type": "code",
   "execution_count": 91,
   "id": "97dffdbe",
   "metadata": {},
   "outputs": [],
   "source": [
    "from scipy.stats import t"
   ]
  },
  {
   "cell_type": "code",
   "execution_count": 92,
   "id": "974f9135",
   "metadata": {},
   "outputs": [
    {
     "data": {
      "text/plain": [
       "array([-1.96052127,  1.96052127])"
      ]
     },
     "execution_count": 92,
     "metadata": {},
     "output_type": "execute_result"
    }
   ],
   "source": [
    "critical_value = t.ppf([alpha/2,1-alpha/2],degrees_of_freedom)\n",
    "critical_value"
   ]
  },
  {
   "cell_type": "code",
   "execution_count": 93,
   "id": "0990a727",
   "metadata": {},
   "outputs": [],
   "source": [
    "# so hence we cant reject  h0 as p value is greater than 0.05\n",
    "#and statistic value that is 1.2804844413959333 is between critical_value([-1.96052127,  1.96052127])"
   ]
  },
  {
   "cell_type": "code",
   "execution_count": 94,
   "id": "b0cf5bc6",
   "metadata": {},
   "outputs": [],
   "source": [
    "# now we need to check the below \n",
    "# h0 = sample mean = population mean\n",
    "# h1 = sample mean != population mean"
   ]
  },
  {
   "cell_type": "code",
   "execution_count": 95,
   "id": "87c0ed3d",
   "metadata": {},
   "outputs": [],
   "source": [
    "# Z-TEST"
   ]
  },
  {
   "cell_type": "code",
   "execution_count": 96,
   "id": "9128e4da",
   "metadata": {},
   "outputs": [],
   "source": [
    "# so now weare going to calculate the sample z-test"
   ]
  },
  {
   "cell_type": "code",
   "execution_count": null,
   "id": "ba1bb400",
   "metadata": {},
   "outputs": [],
   "source": [
    "#so here we can see that people who are working for more than 225 avg monthly hours are more likely to leave the job"
   ]
  },
  {
   "cell_type": "code",
   "execution_count": 97,
   "id": "496f10db",
   "metadata": {},
   "outputs": [],
   "source": [
    "# now we need to check the below \n",
    "# h0 = employees with avg monthly hrs <255 are leaving the company \n",
    "# h1 = employees with avg monthly hrs >255 are leaving the company "
   ]
  },
  {
   "cell_type": "code",
   "execution_count": 99,
   "id": "8f4ac856",
   "metadata": {},
   "outputs": [],
   "source": [
    "from statsmodels.stats.proportion import proportions_ztest"
   ]
  },
  {
   "cell_type": "code",
   "execution_count": 101,
   "id": "a6f3999b",
   "metadata": {},
   "outputs": [
    {
     "data": {
      "text/html": [
       "<div>\n",
       "<style scoped>\n",
       "    .dataframe tbody tr th:only-of-type {\n",
       "        vertical-align: middle;\n",
       "    }\n",
       "\n",
       "    .dataframe tbody tr th {\n",
       "        vertical-align: top;\n",
       "    }\n",
       "\n",
       "    .dataframe thead th {\n",
       "        text-align: right;\n",
       "    }\n",
       "</style>\n",
       "<table border=\"1\" class=\"dataframe\">\n",
       "  <thead>\n",
       "    <tr style=\"text-align: right;\">\n",
       "      <th></th>\n",
       "      <th>satisfactoryLevel</th>\n",
       "      <th>lastEvaluation</th>\n",
       "      <th>numberOfProjects</th>\n",
       "      <th>avgMonthlyHours</th>\n",
       "      <th>timeSpent_company</th>\n",
       "      <th>workAccident</th>\n",
       "      <th>left</th>\n",
       "      <th>promotionInLast5years</th>\n",
       "      <th>dept</th>\n",
       "      <th>salary</th>\n",
       "    </tr>\n",
       "  </thead>\n",
       "  <tbody>\n",
       "    <tr>\n",
       "      <th>1</th>\n",
       "      <td>0.80</td>\n",
       "      <td>0.86</td>\n",
       "      <td>5</td>\n",
       "      <td>262</td>\n",
       "      <td>6</td>\n",
       "      <td>0</td>\n",
       "      <td>1</td>\n",
       "      <td>0</td>\n",
       "      <td>sales</td>\n",
       "      <td>medium</td>\n",
       "    </tr>\n",
       "    <tr>\n",
       "      <th>2</th>\n",
       "      <td>0.11</td>\n",
       "      <td>0.88</td>\n",
       "      <td>7</td>\n",
       "      <td>272</td>\n",
       "      <td>4</td>\n",
       "      <td>0</td>\n",
       "      <td>1</td>\n",
       "      <td>0</td>\n",
       "      <td>sales</td>\n",
       "      <td>medium</td>\n",
       "    </tr>\n",
       "    <tr>\n",
       "      <th>5</th>\n",
       "      <td>0.10</td>\n",
       "      <td>0.77</td>\n",
       "      <td>6</td>\n",
       "      <td>247</td>\n",
       "      <td>4</td>\n",
       "      <td>0</td>\n",
       "      <td>1</td>\n",
       "      <td>0</td>\n",
       "      <td>sales</td>\n",
       "      <td>low</td>\n",
       "    </tr>\n",
       "    <tr>\n",
       "      <th>6</th>\n",
       "      <td>0.92</td>\n",
       "      <td>0.85</td>\n",
       "      <td>5</td>\n",
       "      <td>259</td>\n",
       "      <td>5</td>\n",
       "      <td>0</td>\n",
       "      <td>1</td>\n",
       "      <td>0</td>\n",
       "      <td>sales</td>\n",
       "      <td>low</td>\n",
       "    </tr>\n",
       "    <tr>\n",
       "      <th>9</th>\n",
       "      <td>0.11</td>\n",
       "      <td>0.81</td>\n",
       "      <td>6</td>\n",
       "      <td>305</td>\n",
       "      <td>4</td>\n",
       "      <td>0</td>\n",
       "      <td>1</td>\n",
       "      <td>0</td>\n",
       "      <td>sales</td>\n",
       "      <td>low</td>\n",
       "    </tr>\n",
       "  </tbody>\n",
       "</table>\n",
       "</div>"
      ],
      "text/plain": [
       "   satisfactoryLevel  lastEvaluation  numberOfProjects  avgMonthlyHours  \\\n",
       "1               0.80            0.86                 5              262   \n",
       "2               0.11            0.88                 7              272   \n",
       "5               0.10            0.77                 6              247   \n",
       "6               0.92            0.85                 5              259   \n",
       "9               0.11            0.81                 6              305   \n",
       "\n",
       "   timeSpent_company  workAccident  left  promotionInLast5years   dept  salary  \n",
       "1                  6             0     1                      0  sales  medium  \n",
       "2                  4             0     1                      0  sales  medium  \n",
       "5                  4             0     1                      0  sales     low  \n",
       "6                  5             0     1                      0  sales     low  \n",
       "9                  4             0     1                      0  sales     low  "
      ]
     },
     "execution_count": 101,
     "metadata": {},
     "output_type": "execute_result"
    }
   ],
   "source": [
    "emp.head() # our population data"
   ]
  },
  {
   "cell_type": "code",
   "execution_count": 102,
   "id": "7287c7f2",
   "metadata": {},
   "outputs": [],
   "source": [
    "sample_size = 100\n",
    "sample1 = emp.sample(sample_size,random_state = 0)"
   ]
  },
  {
   "cell_type": "code",
   "execution_count": 104,
   "id": "04d0a929",
   "metadata": {},
   "outputs": [
    {
     "data": {
      "text/html": [
       "<div>\n",
       "<style scoped>\n",
       "    .dataframe tbody tr th:only-of-type {\n",
       "        vertical-align: middle;\n",
       "    }\n",
       "\n",
       "    .dataframe tbody tr th {\n",
       "        vertical-align: top;\n",
       "    }\n",
       "\n",
       "    .dataframe thead th {\n",
       "        text-align: right;\n",
       "    }\n",
       "</style>\n",
       "<table border=\"1\" class=\"dataframe\">\n",
       "  <thead>\n",
       "    <tr style=\"text-align: right;\">\n",
       "      <th></th>\n",
       "      <th>satisfactoryLevel</th>\n",
       "      <th>lastEvaluation</th>\n",
       "      <th>numberOfProjects</th>\n",
       "      <th>avgMonthlyHours</th>\n",
       "      <th>timeSpent_company</th>\n",
       "      <th>workAccident</th>\n",
       "      <th>left</th>\n",
       "      <th>promotionInLast5years</th>\n",
       "      <th>dept</th>\n",
       "      <th>salary</th>\n",
       "    </tr>\n",
       "  </thead>\n",
       "  <tbody>\n",
       "    <tr>\n",
       "      <th>97</th>\n",
       "      <td>0.83</td>\n",
       "      <td>1.00</td>\n",
       "      <td>5</td>\n",
       "      <td>240</td>\n",
       "      <td>5</td>\n",
       "      <td>0</td>\n",
       "      <td>1</td>\n",
       "      <td>0</td>\n",
       "      <td>support</td>\n",
       "      <td>low</td>\n",
       "    </tr>\n",
       "    <tr>\n",
       "      <th>2643</th>\n",
       "      <td>0.64</td>\n",
       "      <td>0.50</td>\n",
       "      <td>6</td>\n",
       "      <td>254</td>\n",
       "      <td>6</td>\n",
       "      <td>0</td>\n",
       "      <td>0</td>\n",
       "      <td>0</td>\n",
       "      <td>RandD</td>\n",
       "      <td>medium</td>\n",
       "    </tr>\n",
       "    <tr>\n",
       "      <th>1385</th>\n",
       "      <td>0.33</td>\n",
       "      <td>0.88</td>\n",
       "      <td>6</td>\n",
       "      <td>260</td>\n",
       "      <td>3</td>\n",
       "      <td>0</td>\n",
       "      <td>0</td>\n",
       "      <td>0</td>\n",
       "      <td>technical</td>\n",
       "      <td>low</td>\n",
       "    </tr>\n",
       "    <tr>\n",
       "      <th>5056</th>\n",
       "      <td>0.71</td>\n",
       "      <td>0.80</td>\n",
       "      <td>5</td>\n",
       "      <td>248</td>\n",
       "      <td>4</td>\n",
       "      <td>0</td>\n",
       "      <td>0</td>\n",
       "      <td>0</td>\n",
       "      <td>management</td>\n",
       "      <td>medium</td>\n",
       "    </tr>\n",
       "    <tr>\n",
       "      <th>7754</th>\n",
       "      <td>0.62</td>\n",
       "      <td>0.73</td>\n",
       "      <td>3</td>\n",
       "      <td>245</td>\n",
       "      <td>4</td>\n",
       "      <td>0</td>\n",
       "      <td>0</td>\n",
       "      <td>0</td>\n",
       "      <td>IT</td>\n",
       "      <td>low</td>\n",
       "    </tr>\n",
       "  </tbody>\n",
       "</table>\n",
       "</div>"
      ],
      "text/plain": [
       "      satisfactoryLevel  lastEvaluation  numberOfProjects  avgMonthlyHours  \\\n",
       "97                 0.83            1.00                 5              240   \n",
       "2643               0.64            0.50                 6              254   \n",
       "1385               0.33            0.88                 6              260   \n",
       "5056               0.71            0.80                 5              248   \n",
       "7754               0.62            0.73                 3              245   \n",
       "\n",
       "      timeSpent_company  workAccident  left  promotionInLast5years  \\\n",
       "97                    5             0     1                      0   \n",
       "2643                  6             0     0                      0   \n",
       "1385                  3             0     0                      0   \n",
       "5056                  4             0     0                      0   \n",
       "7754                  4             0     0                      0   \n",
       "\n",
       "            dept  salary  \n",
       "97       support     low  \n",
       "2643       RandD  medium  \n",
       "1385   technical     low  \n",
       "5056  management  medium  \n",
       "7754          IT     low  "
      ]
     },
     "execution_count": 104,
     "metadata": {},
     "output_type": "execute_result"
    }
   ],
   "source": [
    "sample1.head() #our sample data"
   ]
  },
  {
   "cell_type": "code",
   "execution_count": 105,
   "id": "0a1c0c94",
   "metadata": {},
   "outputs": [],
   "source": [
    "count = sample1[\"left\"].value_counts()"
   ]
  },
  {
   "cell_type": "code",
   "execution_count": 106,
   "id": "2cedc916",
   "metadata": {},
   "outputs": [
    {
     "data": {
      "text/plain": [
       "0    77\n",
       "1    23\n",
       "Name: left, dtype: int64"
      ]
     },
     "execution_count": 106,
     "metadata": {},
     "output_type": "execute_result"
    }
   ],
   "source": [
    "count"
   ]
  },
  {
   "cell_type": "code",
   "execution_count": 108,
   "id": "879e8c3c",
   "metadata": {},
   "outputs": [
    {
     "data": {
      "text/plain": [
       "100"
      ]
     },
     "execution_count": 108,
     "metadata": {},
     "output_type": "execute_result"
    }
   ],
   "source": [
    "nobs = len(sample1[\"left\"])\n",
    "nobs"
   ]
  },
  {
   "cell_type": "code",
   "execution_count": 121,
   "id": "9e66ca94",
   "metadata": {},
   "outputs": [],
   "source": [
    "p0 = 0.3"
   ]
  },
  {
   "cell_type": "code",
   "execution_count": 122,
   "id": "4bc92b05",
   "metadata": {},
   "outputs": [
    {
     "data": {
      "text/plain": [
       "(3.394112549695429, 0.0006885138966450754)"
      ]
     },
     "execution_count": 122,
     "metadata": {},
     "output_type": "execute_result"
    }
   ],
   "source": [
    "statistic,p_value = proportions_ztest(count = count,nobs = nobs,value = p0,alternative='two-sided',prop_var=False)\n",
    "statistic,p_value"
   ]
  },
  {
   "cell_type": "code",
   "execution_count": 123,
   "id": "6f306623",
   "metadata": {},
   "outputs": [],
   "source": [
    "# so here we can reject the null hypothesis as p_value is less than .05 hence we can accept the \n",
    "# alternate hypothesis"
   ]
  },
  {
   "cell_type": "code",
   "execution_count": 124,
   "id": "4915c59c",
   "metadata": {},
   "outputs": [],
   "source": [
    "# now we are calculating the critical value"
   ]
  },
  {
   "cell_type": "code",
   "execution_count": 126,
   "id": "9916b13f",
   "metadata": {},
   "outputs": [
    {
     "name": "stdout",
     "output_type": "stream",
     "text": [
      "[-1.95996398  1.95996398]\n"
     ]
    }
   ],
   "source": [
    "from scipy.stats import norm\n",
    "cv_norm = norm.ppf([alpha/2,1-alpha/2])\n",
    "print(cv_norm)"
   ]
  },
  {
   "cell_type": "code",
   "execution_count": 127,
   "id": "0628321d",
   "metadata": {},
   "outputs": [],
   "source": [
    "# our z-statistc is greater than critical value(1.95996398) and its a right tailed test"
   ]
  },
  {
   "cell_type": "code",
   "execution_count": 130,
   "id": "b8027644",
   "metadata": {},
   "outputs": [],
   "source": [
    "# TWO SAMPLED T-TEST - comparing means of two indipended groups"
   ]
  },
  {
   "cell_type": "code",
   "execution_count": 134,
   "id": "57066b41",
   "metadata": {},
   "outputs": [],
   "source": [
    "e1 = df[(df.timeSpent_company>=2)&(df.timeSpent_company<=5)]\n",
    "e2 = df[(df.timeSpent_company>=6)&(df.timeSpent_company<=10)]"
   ]
  },
  {
   "cell_type": "code",
   "execution_count": 135,
   "id": "ee771669",
   "metadata": {},
   "outputs": [],
   "source": [
    "s1 = e1.sample(200,random_state =0)\n",
    "s2 = e2.sample(200,random_state =0)"
   ]
  },
  {
   "cell_type": "code",
   "execution_count": 136,
   "id": "2c59c513",
   "metadata": {},
   "outputs": [],
   "source": [
    "import scipy"
   ]
  },
  {
   "cell_type": "code",
   "execution_count": 137,
   "id": "bda8153a",
   "metadata": {},
   "outputs": [
    {
     "data": {
      "text/plain": [
       "Ttest_indResult(statistic=-0.058969634159925566, pvalue=0.9530058909644643)"
      ]
     },
     "execution_count": 137,
     "metadata": {},
     "output_type": "execute_result"
    }
   ],
   "source": [
    "scipy.stats.ttest_ind(s1[\"avgMonthlyHours\"],s2[\"avgMonthlyHours\"])"
   ]
  },
  {
   "cell_type": "code",
   "execution_count": 138,
   "id": "816bce4d",
   "metadata": {},
   "outputs": [],
   "source": [
    "# so here p_value is greater than .05 so we will be accepting the null hypothesis and will\n",
    "# be rejecting the alternate hypothesis that is is the mean avg monthly hours of emp having\n",
    "# exp of 2-5 yrs is the same as that of having exp 6-10 yrs\n",
    "# so by this we can say that this result is one of the reason for more number of attrition rate \n",
    "# as we can see that emp having more experiance are also working same hrs as less exp"
   ]
  },
  {
   "cell_type": "code",
   "execution_count": 139,
   "id": "30ebfb7d",
   "metadata": {},
   "outputs": [],
   "source": [
    "# F-TEST"
   ]
  },
  {
   "cell_type": "code",
   "execution_count": 140,
   "id": "da43db7f",
   "metadata": {},
   "outputs": [],
   "source": [
    "# F-test for variance is used test if variance of 2 population are equal or not"
   ]
  },
  {
   "cell_type": "code",
   "execution_count": 141,
   "id": "edf5fd1f",
   "metadata": {},
   "outputs": [],
   "source": [
    "# sample variance"
   ]
  },
  {
   "cell_type": "code",
   "execution_count": 151,
   "id": "8a9fc8c7",
   "metadata": {},
   "outputs": [],
   "source": [
    "# now we need to check the below \n",
    "# h0 = variance is equal\n",
    "# h1 = variance is not equal"
   ]
  },
  {
   "cell_type": "code",
   "execution_count": 142,
   "id": "4bd248bd",
   "metadata": {},
   "outputs": [
    {
     "name": "stdout",
     "output_type": "stream",
     "text": [
      "2324.24620603015\n",
      "2680.904522613066\n"
     ]
    }
   ],
   "source": [
    "print(s1[\"avgMonthlyHours\"].var())\n",
    "print(s2[\"avgMonthlyHours\"].var())"
   ]
  },
  {
   "cell_type": "code",
   "execution_count": 143,
   "id": "b708343a",
   "metadata": {},
   "outputs": [
    {
     "name": "stdout",
     "output_type": "stream",
     "text": [
      "203.005\n",
      "203.3\n"
     ]
    }
   ],
   "source": [
    "# sample mean\n",
    "print(s1[\"avgMonthlyHours\"].mean())\n",
    "print(s2[\"avgMonthlyHours\"].mean())"
   ]
  },
  {
   "cell_type": "code",
   "execution_count": 144,
   "id": "9d4badd2",
   "metadata": {},
   "outputs": [
    {
     "name": "stdout",
     "output_type": "stream",
     "text": [
      "199 199\n"
     ]
    }
   ],
   "source": [
    "df1 = len(s1)-1\n",
    "df2 = len(s2)-1\n",
    "print(df1,df2)"
   ]
  },
  {
   "cell_type": "code",
   "execution_count": 145,
   "id": "cc3f5619",
   "metadata": {},
   "outputs": [],
   "source": [
    "# compute f-statistic"
   ]
  },
  {
   "cell_type": "code",
   "execution_count": 146,
   "id": "c1d79694",
   "metadata": {},
   "outputs": [
    {
     "data": {
      "text/plain": [
       "0.8669634395501401"
      ]
     },
     "execution_count": 146,
     "metadata": {},
     "output_type": "execute_result"
    }
   ],
   "source": [
    "from scipy.stats import f\n",
    "F = s1[\"avgMonthlyHours\"].var()/s2[\"avgMonthlyHours\"].var()\n",
    "F"
   ]
  },
  {
   "cell_type": "code",
   "execution_count": 147,
   "id": "a9662c05",
   "metadata": {},
   "outputs": [],
   "source": [
    "import scipy.stats"
   ]
  },
  {
   "cell_type": "code",
   "execution_count": 148,
   "id": "93a9f7d0",
   "metadata": {},
   "outputs": [
    {
     "data": {
      "text/plain": [
       "0.15739115729495057"
      ]
     },
     "execution_count": 148,
     "metadata": {},
     "output_type": "execute_result"
    }
   ],
   "source": [
    "p_value = scipy.stats.f.cdf(F,df1,df2)\n",
    "p_value"
   ]
  },
  {
   "cell_type": "code",
   "execution_count": 149,
   "id": "881a76ae",
   "metadata": {},
   "outputs": [
    {
     "data": {
      "text/plain": [
       "array([0.75678659, 1.32137648])"
      ]
     },
     "execution_count": 149,
     "metadata": {},
     "output_type": "execute_result"
    }
   ],
   "source": [
    "f.ppf([alpha/2,1-alpha/2],df1,df2)"
   ]
  },
  {
   "cell_type": "code",
   "execution_count": 150,
   "id": "6dc974c0",
   "metadata": {},
   "outputs": [],
   "source": [
    "# so here p_value is greater than 0.05 so here we accept the null hypothesis"
   ]
  },
  {
   "cell_type": "code",
   "execution_count": null,
   "id": "bbaff847",
   "metadata": {},
   "outputs": [],
   "source": []
  }
 ],
 "metadata": {
  "kernelspec": {
   "display_name": "Python 3 (ipykernel)",
   "language": "python",
   "name": "python3"
  },
  "language_info": {
   "codemirror_mode": {
    "name": "ipython",
    "version": 3
   },
   "file_extension": ".py",
   "mimetype": "text/x-python",
   "name": "python",
   "nbconvert_exporter": "python",
   "pygments_lexer": "ipython3",
   "version": "3.9.12"
  }
 },
 "nbformat": 4,
 "nbformat_minor": 5
}
